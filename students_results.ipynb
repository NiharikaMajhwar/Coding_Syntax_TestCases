{
 "cells": [
  {
   "cell_type": "code",
   "execution_count": 1,
   "id": "4022e314",
   "metadata": {},
   "outputs": [],
   "source": [
    "import pandas as pd"
   ]
  },
  {
   "cell_type": "code",
   "execution_count": 4,
   "id": "672c7a31",
   "metadata": {},
   "outputs": [
    {
     "name": "stdout",
     "output_type": "stream",
     "text": [
      "       names\n",
      "0     vineet\n",
      "1     hisham\n",
      "2        raj\n",
      "3      ajeet\n",
      "4      sujit\n",
      "5     ramesh\n",
      "6      priya\n",
      "7   priyanka\n",
      "8     suresh\n",
      "9     ritesh\n",
      "10    hitesh\n",
      "11     jatin\n",
      "12   chitesh\n",
      "13     suman\n",
      "14     raman\n",
      "15      aman\n",
      "16      ravi\n",
      "17    shravi\n",
      "18    chavvi\n",
      "19  himanshu\n",
      "   results\n",
      "0     fail\n",
      "1     fail\n",
      "2     pass\n",
      "3     pass\n",
      "4     fail\n",
      "5     pass\n",
      "6     fail\n",
      "7     pass\n",
      "8     pass\n",
      "9     pass\n",
      "10    pass\n",
      "11    fail\n",
      "12    fail\n",
      "13    fail\n",
      "14    pass\n",
      "15    fail\n",
      "16    pass\n",
      "17    fail\n",
      "18    pass\n",
      "19    pass\n"
     ]
    }
   ],
   "source": [
    "df2=pd.DataFrame({\"names\":['vineet','hisham','raj','ajeet','sujit','ramesh','priya','priyanka','suresh','ritesh','hitesh','jatin','chitesh','suman','raman','aman','ravi','shravi','chavvi','himanshu']})\n",
    "df3=pd.DataFrame({\"results\":['fail','fail','pass','pass','fail','pass','fail','pass','pass','pass','pass','fail','fail','fail','pass','fail','pass','fail','pass','pass']})                   \n",
    "print(df2)\n",
    "print(df3)                  \n",
    "                  \n",
    "                  \n",
    "                  "
   ]
  },
  {
   "cell_type": "code",
   "execution_count": 16,
   "id": "db8842f8",
   "metadata": {},
   "outputs": [
    {
     "name": "stdout",
     "output_type": "stream",
     "text": [
      "Students who have successfully cleared the exam:\n",
      "2          raj\n",
      "3        ajeet\n",
      "5       ramesh\n",
      "7     priyanka\n",
      "8       suresh\n",
      "9       ritesh\n",
      "10      hitesh\n",
      "14       raman\n",
      "16        ravi\n",
      "18      chavvi\n",
      "19    himanshu\n",
      "Name: names, dtype: object\n"
     ]
    }
   ],
   "source": [
    "df2 = pd.DataFrame({\"names\":['vineet','hisham','raj','ajeet','sujit','ramesh','priya','priyanka','suresh','ritesh','hitesh','jatin','chitesh','suman','raman','aman','ravi','shravi','chavvi','himanshu'],\n",
    "                    \"rno\":['1','2','3','4','5','6','7','8','9','10','11','12','13','14','15','16','17','18','19','20']})\n",
    "df3 = pd.DataFrame({\"results\":['fail','fail','pass','pass','fail','pass','fail','pass','pass','pass','pass','fail','fail','fail','pass','fail','pass','fail','pass','pass'],\n",
    "                    \"rno\":['1','2','3','4','5','6','7','8','9','10','11','12','13','14','15','16','17','18','19','20']})\n",
    "\n",
    "# Merge the DataFrames on 'rno'\n",
    "merged_df = df2.merge(df3, on='rno')\n",
    "\n",
    "# Filter out students who have successfully cleared the exam (results = 'pass')\n",
    "cleared_students = merged_df[merged_df['results'] == 'pass']['names']\n",
    "\n",
    "print(\"Students who have successfully cleared the exam:\")\n",
    "print(cleared_students)"
   ]
  },
  {
   "cell_type": "code",
   "execution_count": 13,
   "id": "82e0ff2d",
   "metadata": {},
   "outputs": [
    {
     "name": "stdout",
     "output_type": "stream",
     "text": [
      "Number of students who passed: 11\n",
      "Number of students who failed: 9\n"
     ]
    }
   ],
   "source": [
    "# Count the number of students who passed and failed\n",
    "pass_count = (df3['results'] == 'pass').sum()\n",
    "fail_count = (df3['results'] == 'fail').sum()\n",
    "\n",
    "print(\"Number of students who passed:\", pass_count)\n",
    "print(\"Number of students who failed:\", fail_count)\n",
    "\n"
   ]
  },
  {
   "cell_type": "code",
   "execution_count": 14,
   "id": "06f7bf0a",
   "metadata": {},
   "outputs": [
    {
     "name": "stdout",
     "output_type": "stream",
     "text": [
      "Student names arranged alphabetically:\n",
      "3        ajeet\n",
      "15        aman\n",
      "18      chavvi\n",
      "12     chitesh\n",
      "19    himanshu\n",
      "1       hisham\n",
      "10      hitesh\n",
      "11       jatin\n",
      "6        priya\n",
      "7     priyanka\n",
      "2          raj\n",
      "14       raman\n",
      "5       ramesh\n",
      "16        ravi\n",
      "9       ritesh\n",
      "17      shravi\n",
      "4        sujit\n",
      "13       suman\n",
      "8       suresh\n",
      "0       vineet\n",
      "Name: names, dtype: object\n"
     ]
    }
   ],
   "source": [
    "# Sort and print student names alphabetically\n",
    "sorted_names = df2['names'].sort_values()\n",
    "\n",
    "print(\"Student names arranged alphabetically:\")\n",
    "print(sorted_names)"
   ]
  },
  {
   "cell_type": "code",
   "execution_count": null,
   "id": "9ff13cc1",
   "metadata": {},
   "outputs": [],
   "source": []
  }
 ],
 "metadata": {
  "kernelspec": {
   "display_name": "Python 3 (ipykernel)",
   "language": "python",
   "name": "python3"
  },
  "language_info": {
   "codemirror_mode": {
    "name": "ipython",
    "version": 3
   },
   "file_extension": ".py",
   "mimetype": "text/x-python",
   "name": "python",
   "nbconvert_exporter": "python",
   "pygments_lexer": "ipython3",
   "version": "3.11.3"
  }
 },
 "nbformat": 4,
 "nbformat_minor": 5
}
