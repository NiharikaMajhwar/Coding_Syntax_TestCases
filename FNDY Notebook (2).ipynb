{
 "cells": [
  {
   "cell_type": "code",
   "execution_count": 1,
   "id": "7a8b6006",
   "metadata": {},
   "outputs": [
    {
     "data": {
      "text/html": [
       "<div>\n",
       "<style scoped>\n",
       "    .dataframe tbody tr th:only-of-type {\n",
       "        vertical-align: middle;\n",
       "    }\n",
       "\n",
       "    .dataframe tbody tr th {\n",
       "        vertical-align: top;\n",
       "    }\n",
       "\n",
       "    .dataframe thead th {\n",
       "        text-align: right;\n",
       "    }\n",
       "</style>\n",
       "<table border=\"1\" class=\"dataframe\">\n",
       "  <thead>\n",
       "    <tr style=\"text-align: right;\">\n",
       "      <th></th>\n",
       "      <th>FacilityName</th>\n",
       "      <th>FacilityAddress</th>\n",
       "      <th>Borough</th>\n",
       "    </tr>\n",
       "  </thead>\n",
       "  <tbody>\n",
       "    <tr>\n",
       "      <th>0</th>\n",
       "      <td>FacilityName</td>\n",
       "      <td>FacilityAddress</td>\n",
       "      <td>Borough</td>\n",
       "    </tr>\n",
       "    <tr>\n",
       "      <th>1</th>\n",
       "      <td>Engine 4/Ladder 15</td>\n",
       "      <td>42 South Street</td>\n",
       "      <td>Manhattan</td>\n",
       "    </tr>\n",
       "    <tr>\n",
       "      <th>2</th>\n",
       "      <td>Engine 10/Ladder 10</td>\n",
       "      <td>124 Liberty Street</td>\n",
       "      <td>Manhattan</td>\n",
       "    </tr>\n",
       "    <tr>\n",
       "      <th>3</th>\n",
       "      <td>Engine 6</td>\n",
       "      <td>49 Beekman Street</td>\n",
       "      <td>Manhattan</td>\n",
       "    </tr>\n",
       "    <tr>\n",
       "      <th>4</th>\n",
       "      <td>Engine 7/Ladder 1/Battalion 1/Manhattan Boroug...</td>\n",
       "      <td>100-104 Duane Street</td>\n",
       "      <td>Manhattan</td>\n",
       "    </tr>\n",
       "    <tr>\n",
       "      <th>...</th>\n",
       "      <td>...</td>\n",
       "      <td>...</td>\n",
       "      <td>...</td>\n",
       "    </tr>\n",
       "    <tr>\n",
       "      <th>214</th>\n",
       "      <td>Engine 162/Ladder 82/Battalion 23</td>\n",
       "      <td>256 Nelson Avenue</td>\n",
       "      <td>Staten Island</td>\n",
       "    </tr>\n",
       "    <tr>\n",
       "      <th>215</th>\n",
       "      <td>Engine 167/Ladder 87</td>\n",
       "      <td>345 Annadale Road</td>\n",
       "      <td>Staten Island</td>\n",
       "    </tr>\n",
       "    <tr>\n",
       "      <th>216</th>\n",
       "      <td>Engine 164/Ladder 84</td>\n",
       "      <td>1560 Drumgoole Road West</td>\n",
       "      <td>Staten Island</td>\n",
       "    </tr>\n",
       "    <tr>\n",
       "      <th>217</th>\n",
       "      <td>Engine 168/EMS Station 23</td>\n",
       "      <td>1100 Rossville Avenue</td>\n",
       "      <td>Staten Island</td>\n",
       "    </tr>\n",
       "    <tr>\n",
       "      <th>218</th>\n",
       "      <td>Engine 151/Ladder 76</td>\n",
       "      <td>7219 Amboy Road</td>\n",
       "      <td>Staten Island</td>\n",
       "    </tr>\n",
       "  </tbody>\n",
       "</table>\n",
       "<p>219 rows × 3 columns</p>\n",
       "</div>"
      ],
      "text/plain": [
       "                                          FacilityName  \\\n",
       "0                                         FacilityName   \n",
       "1                                   Engine 4/Ladder 15   \n",
       "2                                  Engine 10/Ladder 10   \n",
       "3                                             Engine 6   \n",
       "4    Engine 7/Ladder 1/Battalion 1/Manhattan Boroug...   \n",
       "..                                                 ...   \n",
       "214                  Engine 162/Ladder 82/Battalion 23   \n",
       "215                               Engine 167/Ladder 87   \n",
       "216                               Engine 164/Ladder 84   \n",
       "217                          Engine 168/EMS Station 23   \n",
       "218                               Engine 151/Ladder 76   \n",
       "\n",
       "              FacilityAddress        Borough  \n",
       "0             FacilityAddress        Borough  \n",
       "1             42 South Street      Manhattan  \n",
       "2          124 Liberty Street      Manhattan  \n",
       "3           49 Beekman Street      Manhattan  \n",
       "4        100-104 Duane Street      Manhattan  \n",
       "..                        ...            ...  \n",
       "214         256 Nelson Avenue  Staten Island  \n",
       "215         345 Annadale Road  Staten Island  \n",
       "216  1560 Drumgoole Road West  Staten Island  \n",
       "217     1100 Rossville Avenue  Staten Island  \n",
       "218           7219 Amboy Road  Staten Island  \n",
       "\n",
       "[219 rows x 3 columns]"
      ]
     },
     "execution_count": 1,
     "metadata": {},
     "output_type": "execute_result"
    }
   ],
   "source": [
    "import pandas as pd\n",
    "import numpy as np\n",
    "\n",
    "# Read the CSV file into a DataFrame\n",
    "df = pd.read_csv(\"C:/Users/admin/Downloads/14.FDNY.csv\",encoding='ISO-8859-1')\n",
    "df"
   ]
  },
  {
   "cell_type": "code",
   "execution_count": 4,
   "id": "9a62babf",
   "metadata": {},
   "outputs": [
    {
     "name": "stdout",
     "output_type": "stream",
     "text": [
      "<class 'pandas.core.frame.DataFrame'>\n",
      "RangeIndex: 219 entries, 0 to 218\n",
      "Data columns (total 3 columns):\n",
      " #   Column           Non-Null Count  Dtype \n",
      "---  ------           --------------  ----- \n",
      " 0   FacilityName     219 non-null    object\n",
      " 1   FacilityAddress  219 non-null    object\n",
      " 2   Borough          219 non-null    object\n",
      "dtypes: object(3)\n",
      "memory usage: 5.3+ KB\n"
     ]
    }
   ],
   "source": [
    "df.info()"
   ]
  },
  {
   "cell_type": "code",
   "execution_count": 5,
   "id": "7e34248c",
   "metadata": {},
   "outputs": [
    {
     "data": {
      "text/html": [
       "<div>\n",
       "<style scoped>\n",
       "    .dataframe tbody tr th:only-of-type {\n",
       "        vertical-align: middle;\n",
       "    }\n",
       "\n",
       "    .dataframe tbody tr th {\n",
       "        vertical-align: top;\n",
       "    }\n",
       "\n",
       "    .dataframe thead th {\n",
       "        text-align: right;\n",
       "    }\n",
       "</style>\n",
       "<table border=\"1\" class=\"dataframe\">\n",
       "  <thead>\n",
       "    <tr style=\"text-align: right;\">\n",
       "      <th></th>\n",
       "      <th>FacilityName</th>\n",
       "      <th>FacilityAddress</th>\n",
       "      <th>Borough</th>\n",
       "    </tr>\n",
       "  </thead>\n",
       "  <tbody>\n",
       "    <tr>\n",
       "      <th>0</th>\n",
       "      <td>FacilityName</td>\n",
       "      <td>FacilityAddress</td>\n",
       "      <td>Borough</td>\n",
       "    </tr>\n",
       "    <tr>\n",
       "      <th>1</th>\n",
       "      <td>Engine 4/Ladder 15</td>\n",
       "      <td>42 South Street</td>\n",
       "      <td>Manhattan</td>\n",
       "    </tr>\n",
       "    <tr>\n",
       "      <th>2</th>\n",
       "      <td>Engine 10/Ladder 10</td>\n",
       "      <td>124 Liberty Street</td>\n",
       "      <td>Manhattan</td>\n",
       "    </tr>\n",
       "    <tr>\n",
       "      <th>3</th>\n",
       "      <td>Engine 6</td>\n",
       "      <td>49 Beekman Street</td>\n",
       "      <td>Manhattan</td>\n",
       "    </tr>\n",
       "    <tr>\n",
       "      <th>4</th>\n",
       "      <td>Engine 7/Ladder 1/Battalion 1/Manhattan Boroug...</td>\n",
       "      <td>100-104 Duane Street</td>\n",
       "      <td>Manhattan</td>\n",
       "    </tr>\n",
       "  </tbody>\n",
       "</table>\n",
       "</div>"
      ],
      "text/plain": [
       "                                        FacilityName       FacilityAddress  \\\n",
       "0                                       FacilityName       FacilityAddress   \n",
       "1                                 Engine 4/Ladder 15       42 South Street   \n",
       "2                                Engine 10/Ladder 10    124 Liberty Street   \n",
       "3                                           Engine 6     49 Beekman Street   \n",
       "4  Engine 7/Ladder 1/Battalion 1/Manhattan Boroug...  100-104 Duane Street   \n",
       "\n",
       "     Borough  \n",
       "0    Borough  \n",
       "1  Manhattan  \n",
       "2  Manhattan  \n",
       "3  Manhattan  \n",
       "4  Manhattan  "
      ]
     },
     "execution_count": 5,
     "metadata": {},
     "output_type": "execute_result"
    }
   ],
   "source": [
    "df.head()"
   ]
  },
  {
   "cell_type": "code",
   "execution_count": 6,
   "id": "a393ea49",
   "metadata": {},
   "outputs": [
    {
     "data": {
      "text/html": [
       "<div>\n",
       "<style scoped>\n",
       "    .dataframe tbody tr th:only-of-type {\n",
       "        vertical-align: middle;\n",
       "    }\n",
       "\n",
       "    .dataframe tbody tr th {\n",
       "        vertical-align: top;\n",
       "    }\n",
       "\n",
       "    .dataframe thead th {\n",
       "        text-align: right;\n",
       "    }\n",
       "</style>\n",
       "<table border=\"1\" class=\"dataframe\">\n",
       "  <thead>\n",
       "    <tr style=\"text-align: right;\">\n",
       "      <th></th>\n",
       "      <th>FacilityName</th>\n",
       "      <th>FacilityAddress</th>\n",
       "      <th>Borough</th>\n",
       "    </tr>\n",
       "  </thead>\n",
       "  <tbody>\n",
       "    <tr>\n",
       "      <th>0</th>\n",
       "      <td>Engine 4/Ladder 15</td>\n",
       "      <td>42 South Street</td>\n",
       "      <td>Manhattan</td>\n",
       "    </tr>\n",
       "    <tr>\n",
       "      <th>1</th>\n",
       "      <td>Engine 10/Ladder 10</td>\n",
       "      <td>124 Liberty Street</td>\n",
       "      <td>Manhattan</td>\n",
       "    </tr>\n",
       "    <tr>\n",
       "      <th>2</th>\n",
       "      <td>Engine 6</td>\n",
       "      <td>49 Beekman Street</td>\n",
       "      <td>Manhattan</td>\n",
       "    </tr>\n",
       "    <tr>\n",
       "      <th>3</th>\n",
       "      <td>Engine 7/Ladder 1/Battalion 1/Manhattan Boroug...</td>\n",
       "      <td>100-104 Duane Street</td>\n",
       "      <td>Manhattan</td>\n",
       "    </tr>\n",
       "    <tr>\n",
       "      <th>4</th>\n",
       "      <td>Ladder 8</td>\n",
       "      <td>14 North Moore Street</td>\n",
       "      <td>Manhattan</td>\n",
       "    </tr>\n",
       "    <tr>\n",
       "      <th>...</th>\n",
       "      <td>...</td>\n",
       "      <td>...</td>\n",
       "      <td>...</td>\n",
       "    </tr>\n",
       "    <tr>\n",
       "      <th>213</th>\n",
       "      <td>Engine 162/Ladder 82/Battalion 23</td>\n",
       "      <td>256 Nelson Avenue</td>\n",
       "      <td>Staten Island</td>\n",
       "    </tr>\n",
       "    <tr>\n",
       "      <th>214</th>\n",
       "      <td>Engine 167/Ladder 87</td>\n",
       "      <td>345 Annadale Road</td>\n",
       "      <td>Staten Island</td>\n",
       "    </tr>\n",
       "    <tr>\n",
       "      <th>215</th>\n",
       "      <td>Engine 164/Ladder 84</td>\n",
       "      <td>1560 Drumgoole Road West</td>\n",
       "      <td>Staten Island</td>\n",
       "    </tr>\n",
       "    <tr>\n",
       "      <th>216</th>\n",
       "      <td>Engine 168/EMS Station 23</td>\n",
       "      <td>1100 Rossville Avenue</td>\n",
       "      <td>Staten Island</td>\n",
       "    </tr>\n",
       "    <tr>\n",
       "      <th>217</th>\n",
       "      <td>Engine 151/Ladder 76</td>\n",
       "      <td>7219 Amboy Road</td>\n",
       "      <td>Staten Island</td>\n",
       "    </tr>\n",
       "  </tbody>\n",
       "</table>\n",
       "<p>218 rows × 3 columns</p>\n",
       "</div>"
      ],
      "text/plain": [
       "                                          FacilityName  \\\n",
       "0                                   Engine 4/Ladder 15   \n",
       "1                                  Engine 10/Ladder 10   \n",
       "2                                             Engine 6   \n",
       "3    Engine 7/Ladder 1/Battalion 1/Manhattan Boroug...   \n",
       "4                                             Ladder 8   \n",
       "..                                                 ...   \n",
       "213                  Engine 162/Ladder 82/Battalion 23   \n",
       "214                               Engine 167/Ladder 87   \n",
       "215                               Engine 164/Ladder 84   \n",
       "216                          Engine 168/EMS Station 23   \n",
       "217                               Engine 151/Ladder 76   \n",
       "\n",
       "              FacilityAddress        Borough  \n",
       "0             42 South Street      Manhattan  \n",
       "1          124 Liberty Street      Manhattan  \n",
       "2           49 Beekman Street      Manhattan  \n",
       "3        100-104 Duane Street      Manhattan  \n",
       "4       14 North Moore Street      Manhattan  \n",
       "..                        ...            ...  \n",
       "213         256 Nelson Avenue  Staten Island  \n",
       "214         345 Annadale Road  Staten Island  \n",
       "215  1560 Drumgoole Road West  Staten Island  \n",
       "216     1100 Rossville Avenue  Staten Island  \n",
       "217           7219 Amboy Road  Staten Island  \n",
       "\n",
       "[218 rows x 3 columns]"
      ]
     },
     "execution_count": 6,
     "metadata": {},
     "output_type": "execute_result"
    }
   ],
   "source": [
    "df = pd.read_csv('C:/Users/admin/Downloads/14.FDNY.csv', skiprows=1)\n",
    "df"
   ]
  },
  {
   "cell_type": "code",
   "execution_count": 7,
   "id": "98695566",
   "metadata": {},
   "outputs": [
    {
     "name": "stdout",
     "output_type": "stream",
     "text": [
      "<class 'pandas.core.frame.DataFrame'>\n",
      "RangeIndex: 218 entries, 0 to 217\n",
      "Data columns (total 3 columns):\n",
      " #   Column           Non-Null Count  Dtype \n",
      "---  ------           --------------  ----- \n",
      " 0   FacilityName     218 non-null    object\n",
      " 1   FacilityAddress  218 non-null    object\n",
      " 2   Borough          218 non-null    object\n",
      "dtypes: object(3)\n",
      "memory usage: 5.2+ KB\n"
     ]
    }
   ],
   "source": [
    "df.info()"
   ]
  },
  {
   "cell_type": "code",
   "execution_count": 8,
   "id": "3d324889",
   "metadata": {},
   "outputs": [
    {
     "data": {
      "text/html": [
       "<div>\n",
       "<style scoped>\n",
       "    .dataframe tbody tr th:only-of-type {\n",
       "        vertical-align: middle;\n",
       "    }\n",
       "\n",
       "    .dataframe tbody tr th {\n",
       "        vertical-align: top;\n",
       "    }\n",
       "\n",
       "    .dataframe thead th {\n",
       "        text-align: right;\n",
       "    }\n",
       "</style>\n",
       "<table border=\"1\" class=\"dataframe\">\n",
       "  <thead>\n",
       "    <tr style=\"text-align: right;\">\n",
       "      <th></th>\n",
       "      <th>FacilityName</th>\n",
       "      <th>FacilityAddress</th>\n",
       "      <th>Borough</th>\n",
       "    </tr>\n",
       "  </thead>\n",
       "  <tbody>\n",
       "    <tr>\n",
       "      <th>count</th>\n",
       "      <td>218</td>\n",
       "      <td>218</td>\n",
       "      <td>218</td>\n",
       "    </tr>\n",
       "    <tr>\n",
       "      <th>unique</th>\n",
       "      <td>218</td>\n",
       "      <td>218</td>\n",
       "      <td>5</td>\n",
       "    </tr>\n",
       "    <tr>\n",
       "      <th>top</th>\n",
       "      <td>Engine 4/Ladder 15</td>\n",
       "      <td>42 South Street</td>\n",
       "      <td>Brooklyn</td>\n",
       "    </tr>\n",
       "    <tr>\n",
       "      <th>freq</th>\n",
       "      <td>1</td>\n",
       "      <td>1</td>\n",
       "      <td>66</td>\n",
       "    </tr>\n",
       "  </tbody>\n",
       "</table>\n",
       "</div>"
      ],
      "text/plain": [
       "              FacilityName  FacilityAddress   Borough\n",
       "count                  218              218       218\n",
       "unique                 218              218         5\n",
       "top     Engine 4/Ladder 15  42 South Street  Brooklyn\n",
       "freq                     1                1        66"
      ]
     },
     "execution_count": 8,
     "metadata": {},
     "output_type": "execute_result"
    }
   ],
   "source": [
    "df.describe()"
   ]
  },
  {
   "cell_type": "code",
   "execution_count": 9,
   "id": "bc6e036f",
   "metadata": {},
   "outputs": [
    {
     "data": {
      "text/plain": [
       "Index(['FacilityName', 'FacilityAddress', 'Borough'], dtype='object')"
      ]
     },
     "execution_count": 9,
     "metadata": {},
     "output_type": "execute_result"
    }
   ],
   "source": [
    "df.columns"
   ]
  },
  {
   "cell_type": "code",
   "execution_count": 10,
   "id": "ef1b3783",
   "metadata": {},
   "outputs": [
    {
     "name": "stdout",
     "output_type": "stream",
     "text": [
      "<class 'pandas.core.frame.DataFrame'>\n",
      "RangeIndex: 218 entries, 0 to 217\n",
      "Data columns (total 3 columns):\n",
      " #   Column           Non-Null Count  Dtype \n",
      "---  ------           --------------  ----- \n",
      " 0   FacilityName     218 non-null    object\n",
      " 1   FacilityAddress  218 non-null    object\n",
      " 2   Borough          218 non-null    object\n",
      "dtypes: object(3)\n",
      "memory usage: 5.2+ KB\n"
     ]
    }
   ],
   "source": [
    "df.info()"
   ]
  },
  {
   "cell_type": "code",
   "execution_count": 11,
   "id": "62c97af9",
   "metadata": {},
   "outputs": [
    {
     "data": {
      "text/plain": [
       "RangeIndex(start=0, stop=218, step=1)"
      ]
     },
     "execution_count": 11,
     "metadata": {},
     "output_type": "execute_result"
    }
   ],
   "source": [
    "df.index"
   ]
  },
  {
   "cell_type": "code",
   "execution_count": 12,
   "id": "f25361d6",
   "metadata": {},
   "outputs": [
    {
     "data": {
      "text/plain": [
       "FacilityName       218\n",
       "FacilityAddress    218\n",
       "Borough            218\n",
       "dtype: int64"
      ]
     },
     "execution_count": 12,
     "metadata": {},
     "output_type": "execute_result"
    }
   ],
   "source": [
    "df.count()\n"
   ]
  },
  {
   "cell_type": "code",
   "execution_count": 38,
   "id": "35bba56a",
   "metadata": {},
   "outputs": [
    {
     "data": {
      "text/plain": [
       "FacilityName       218\n",
       "FacilityAddress    218\n",
       "Borough            218\n",
       "dtype: int64"
      ]
     },
     "execution_count": 38,
     "metadata": {},
     "output_type": "execute_result"
    }
   ],
   "source": [
    "y=df."
   ]
  },
  {
   "cell_type": "code",
   "execution_count": 5,
   "id": "59da7daf",
   "metadata": {},
   "outputs": [
    {
     "name": "stdout",
     "output_type": "stream",
     "text": [
      "Total number of fire department facilities in New York City: 219\n"
     ]
    }
   ],
   "source": [
    "total_facilities = df.shape[0]\n",
    "print(\"Total number of fire department facilities in New York City:\", total_facilities)"
   ]
  },
  {
   "cell_type": "code",
   "execution_count": 3,
   "id": "470790fc",
   "metadata": {},
   "outputs": [
    {
     "name": "stdout",
     "output_type": "stream",
     "text": [
      "\n",
      "Number of records for each attribute:\n",
      "FacilityName       219\n",
      "FacilityAddress    219\n",
      "Borough            219\n",
      "dtype: int64\n"
     ]
    }
   ],
   "source": [
    "attribute_counts = df.count()\n",
    "print(\"\\nNumber of records for each attribute:\")\n",
    "print(attribute_counts)\n"
   ]
  },
  {
   "cell_type": "code",
   "execution_count": 4,
   "id": "4d2bd7e2",
   "metadata": {},
   "outputs": [
    {
     "name": "stdout",
     "output_type": "stream",
     "text": [
      "\n",
      "Data types of all three attributes:\n",
      "FacilityName       object\n",
      "FacilityAddress    object\n",
      "Borough            object\n",
      "dtype: object\n"
     ]
    }
   ],
   "source": [
    "attribute_data_types = df.dtypes\n",
    "print(\"\\nData types of all three attributes:\")\n",
    "print(attribute_data_types)\n"
   ]
  },
  {
   "cell_type": "code",
   "execution_count": 6,
   "id": "a4933b9c",
   "metadata": {},
   "outputs": [
    {
     "name": "stdout",
     "output_type": "stream",
     "text": [
      "Total number of fire department facilities in each Borough:\n",
      "Brooklyn         66\n",
      "Queens           50\n",
      "Manhattan        48\n",
      "Bronx            34\n",
      "Staten Island    20\n",
      "Borough           1\n",
      "Name: Borough, dtype: int64\n"
     ]
    }
   ],
   "source": [
    "borough_counts = df['Borough'].value_counts()\n",
    "print(\"Total number of fire department facilities in each Borough:\")\n",
    "print(borough_counts)\n",
    "\n",
    "fdny_data_by_borough = df[df['Borough'] == 'FDNY']\n"
   ]
  },
  {
   "cell_type": "code",
   "execution_count": 8,
   "id": "071d8c37",
   "metadata": {},
   "outputs": [],
   "source": [
    "for borough in fdny_data_by_borough['Borough'].unique():\n",
    "    borough_data = fdny_data_by_borough[fdny_data_by_borough['Borough'] == borough]\n",
    "    print(f\"\\nFDNY information for {borough} Borough:\")\n",
    "    print(borough_data)"
   ]
  },
  {
   "cell_type": "code",
   "execution_count": 12,
   "id": "700f421c",
   "metadata": {},
   "outputs": [
    {
     "name": "stdout",
     "output_type": "stream",
     "text": [
      "Total number of fire department facilities in Manhattan: 0\n"
     ]
    }
   ],
   "source": [
    "# Find the total number of fire department facilities in Manhattan\n",
    "manhattan_facilities_count = df[df['Borough'] == 'MANHATTAN'].shape[0]\n",
    "print(\"Total number of fire department facilities in Manhattan:\", manhattan_facilities_count)\n",
    "\n",
    "# Select FDNY information for Manhattan\n",
    "fdny_manhattan_data = df[(df['Borough'] == 'MANHATTAN') & (df['FacilityName'].str.contains('FDNY'))]\n",
    "\n"
   ]
  },
  {
   "cell_type": "code",
   "execution_count": 13,
   "id": "eba96418",
   "metadata": {},
   "outputs": [
    {
     "name": "stdout",
     "output_type": "stream",
     "text": [
      "\n",
      "FDNY information for Manhattan:\n",
      "Empty DataFrame\n",
      "Columns: [FacilityName, FacilityAddress, Borough]\n",
      "Index: []\n"
     ]
    }
   ],
   "source": [
    "# View FDNY information for Manhattan\n",
    "print(\"\\nFDNY information for Manhattan:\")\n",
    "print(fdny_manhattan_data)\n"
   ]
  },
  {
   "cell_type": "code",
   "execution_count": null,
   "id": "94fe2010",
   "metadata": {},
   "outputs": [],
   "source": []
  }
 ],
 "metadata": {
  "kernelspec": {
   "display_name": "Python 3 (ipykernel)",
   "language": "python",
   "name": "python3"
  },
  "language_info": {
   "codemirror_mode": {
    "name": "ipython",
    "version": 3
   },
   "file_extension": ".py",
   "mimetype": "text/x-python",
   "name": "python",
   "nbconvert_exporter": "python",
   "pygments_lexer": "ipython3",
   "version": "3.11.3"
  }
 },
 "nbformat": 4,
 "nbformat_minor": 5
}
